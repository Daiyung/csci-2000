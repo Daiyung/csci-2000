{
 "cells": [
  {
   "cell_type": "code",
   "execution_count": null,
   "metadata": {
    "collapsed": true
   },
   "outputs": [],
   "source": [
    "%matplotlib inline"
   ]
  },
  {
   "cell_type": "code",
   "execution_count": 1,
   "metadata": {
    "collapsed": true
   },
   "outputs": [],
   "source": [
    "import numpy as np\n",
    "import matplotlib.pyplot as plt"
   ]
  },
  {
   "cell_type": "code",
   "execution_count": null,
   "metadata": {
    "collapsed": true
   },
   "outputs": [],
   "source": [
    "dt = np.dtype([('year', int), ('month', int), ('day', int), ('Decimal', float), ('Number of Sunspots Observed', int), ('Unofficial measurements', int)])\n",
    "data = np.recfromcsv('ISSN_D_tot.csv' ,delimiter=',', dtype=dt)\n",
    "\n",
    "#finding the most recent observation\n",
    "max = 0\n",
    "for i in range(len(data)):\n",
    "    max = data ['Decimal'][i]\n",
    "    if (data['Decimal'][i-1] > data['Decimal'][i]\n",
    "        max = data['cases'][i-1]\n",
    "        \n",
    "print(max)\n",
    "        \n",
    "        "
   ]
  }
 ],
 "metadata": {
  "kernelspec": {
   "display_name": "Python 3",
   "language": "python",
   "name": "python3"
  },
  "language_info": {
   "codemirror_mode": {
    "name": "ipython",
    "version": 3
   },
   "file_extension": ".py",
   "mimetype": "text/x-python",
   "name": "python",
   "nbconvert_exporter": "python",
   "pygments_lexer": "ipython3",
   "version": "3.5.0"
  }
 },
 "nbformat": 4,
 "nbformat_minor": 0
}
