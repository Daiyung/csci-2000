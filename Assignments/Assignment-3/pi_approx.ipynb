{
 "cells": [
  {
   "cell_type": "code",
   "execution_count": 3,
   "metadata": {
    "collapsed": true
   },
   "outputs": [],
   "source": [
    "#Name: Dai Vincent Chan\n",
    "#Student ID: 100 554 446\n",
    "\n",
    "\n",
    "def rho_n(n1):\n",
    "  sum = 0\n",
    "  for k in range(1, n1+1):\n",
    "    sum += (((-1)**(k+1)) / (2*k-1))\n",
    "    \n",
    "  sum = sum *4\n",
    "  print (\"When n =         %d, rho_n = %.11f\" % (n1, sum))\n",
    "  return sum  \n",
    "\n",
    "def tau_n(n2):\n",
    "    sum = 0\n",
    "    for k in range(1,n2+1):\n",
    "      sum += 6*(1/k**2)\n",
    "    sum = sum**(1/2)\n",
    "    print(\"When n =         %d, tau_n = %.11f\" % (n2, sum))\n",
    "    return sum\n",
    "\n",
    "def mu_n(n3):\n",
    "    sum = 0\n",
    "    for k in range(1, n3+1):\n",
    "      sum += 90*(1/k**4)\n",
    "    sum = sum **(1/4)\n",
    "    print(\"When n =         %d, mu_n = %.11f\" % (n3, sum))"
   ]
  },
  {
   "cell_type": "code",
   "execution_count": 4,
   "metadata": {
    "collapsed": false
   },
   "outputs": [
    {
     "name": "stdout",
     "output_type": "stream",
     "text": [
      "When n =         10, rho_n = 3.04183961893\n",
      "When n =         10, tau_n = 3.04936163598\n",
      "When n =         10, mu_n = 3.14138462247\n"
     ]
    }
   ],
   "source": [
    "rho_n(10)\n",
    "tau_n(10)\n",
    "mu_n(10)"
   ]
  },
  {
   "cell_type": "code",
   "execution_count": 5,
   "metadata": {
    "collapsed": false
   },
   "outputs": [
    {
     "name": "stdout",
     "output_type": "stream",
     "text": [
      "When n =         1000000, rho_n = 3.14159165359\n",
      "When n =         1000000, tau_n = 3.14159169866\n",
      "When n =         1000000, mu_n = 3.14159265359\n"
     ]
    }
   ],
   "source": [
    "rho_n(1000000)\n",
    "tau_n(1000000)\n",
    "mu_n(1000000)"
   ]
  },
  {
   "cell_type": "code",
   "execution_count": null,
   "metadata": {
    "collapsed": true
   },
   "outputs": [],
   "source": []
  }
 ],
 "metadata": {
  "kernelspec": {
   "display_name": "Python 3",
   "language": "python",
   "name": "python3"
  },
  "language_info": {
   "codemirror_mode": {
    "name": "ipython",
    "version": 3
   },
   "file_extension": ".py",
   "mimetype": "text/x-python",
   "name": "python",
   "nbconvert_exporter": "python",
   "pygments_lexer": "ipython3",
   "version": "3.4.3"
  }
 },
 "nbformat": 4,
 "nbformat_minor": 0
}
